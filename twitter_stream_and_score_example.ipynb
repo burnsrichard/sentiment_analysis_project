{
 "cells": [
  {
   "cell_type": "code",
   "execution_count": null,
   "metadata": {},
   "outputs": [],
   "source": [
    "import tweepy\n",
    "import nltk\n",
    "from nltk import sentiment\n",
    "from nltk.sentiment.vader import SentimentIntensityAnalyzer"
   ]
  },
  {
   "cell_type": "code",
   "execution_count": null,
   "metadata": {},
   "outputs": [],
   "source": [
    "analyzer = SentimentIntensityAnalyzer()\n",
    "def score_compound(tweet):\n",
    "    vs = analyzer.polarity_scores(tweet)\n",
    "    return (vs['compound'])"
   ]
  },
  {
   "cell_type": "code",
   "execution_count": null,
   "metadata": {},
   "outputs": [],
   "source": [
    "scoredTweets_compound_only = [(bson[0], (score_compound(bson[0])), bson[1]) for bson in alltweets]"
   ]
  },
  {
   "cell_type": "code",
   "execution_count": null,
   "metadata": {},
   "outputs": [],
   "source": [
    "import sys\n",
    "import json\n",
    "import pymongo\n",
    "from datetime import datetime\n",
    "from tweepy.streaming import StreamListener\n",
    "from tweepy import OAuthHandler\n",
    "from tweepy import Stream\n",
    "from pymongo import MongoClient\n",
    "\n",
    "## insert your mongoDB access key\n",
    "client = MongoClient('KEY HERE')\n",
    "\n",
    "db = client.DNC\n",
    "DNC = db.Test\n",
    "class StdOutListener(StreamListener):\n",
    "    def on_data(self, data):\n",
    "        full_tweet = json.loads(data)\n",
    "        ##this makes sure that you won't get clipped tweets\n",
    "        if 'extended_tweet' in full_tweet:\n",
    "            tweet_text = full_tweet.get('full_text')\n",
    "        else:\n",
    "            tweet_text = full_tweet.get('text')\n",
    "        if 'id' in full_tweet:\n",
    "            tweet_user = full_tweet.get('user')\n",
    "            tweet_user_id = tweet_user['id']\n",
    "        else:\n",
    "            tweet_user_id = 'unknown'\n",
    "        tweet_time = full_tweet.get('created_at')\n",
    "        tweet_lang = full_tweet.get('lang')\n",
    "        \n",
    "        if tweet_lang != None and tweet_lang == 'en' and tweet_text != None and 'RT @' not in tweet_text:\n",
    "            ##this is only taking the text and the time stamp, which is making the DB very space effecient\n",
    "            score = score_compound(tweet_text)\n",
    "            tweetObject = {\n",
    "            \"text\": tweet_text,\n",
    "            \"time\": tweet_time,\n",
    "            \"user_id\": tweet_user_id,\n",
    "            \"score\": score\n",
    "            }\n",
    "            DNC.insert_one(full_tweet)\n",
    "            return True\n",
    "    def on_error(self, status):\n",
    "        print (status)\n",
    "        \n",
    "keyFile = open('YOUR TWITTER DEV KEY HERE','r')\n",
    "CONSUMER_KEY = keyFile.readline().rstrip()\n",
    "CONSUMER_SECRET = keyFile.readline().rstrip()\n",
    "ACCESS_TOKEN_KEY = keyFile.readline().rstrip()\n",
    "ACCESS_TOKEN_SECRET = keyFile.readline().rstrip()\n",
    "\n",
    "auth = OAuthHandler(CONSUMER_KEY, CONSUMER_SECRET)\n",
    "auth.set_access_token(ACCESS_TOKEN_KEY, ACCESS_TOKEN_SECRET)\n",
    "\n",
    "while True:\n",
    "    try:\n",
    "        stream = Stream(auth, StdOutListener())\n",
    "        stream.filter(track=[\"DNC\", \"Biden\", \"Harris\", \"Kamala\",\"Trump\",\"Democrats\",\"Republicans\",\"Buttigieg\",\"Cory Booker\",\"Tammy Duckworth\",\"Bloomberg\"]) ##insert your filters here\n",
    "    except KeyboardInterrupt:\n",
    "        s.close()\n",
    "        stream.disconnect()\n",
    "        break"
   ]
  },
  {
   "cell_type": "code",
   "execution_count": null,
   "metadata": {},
   "outputs": [],
   "source": []
  }
 ],
 "metadata": {
  "kernelspec": {
   "display_name": "Python 3",
   "language": "python",
   "name": "python3"
  },
  "language_info": {
   "codemirror_mode": {
    "name": "ipython",
    "version": 3
   },
   "file_extension": ".py",
   "mimetype": "text/x-python",
   "name": "python",
   "nbconvert_exporter": "python",
   "pygments_lexer": "ipython3",
   "version": "3.7.6"
  }
 },
 "nbformat": 4,
 "nbformat_minor": 4
}
